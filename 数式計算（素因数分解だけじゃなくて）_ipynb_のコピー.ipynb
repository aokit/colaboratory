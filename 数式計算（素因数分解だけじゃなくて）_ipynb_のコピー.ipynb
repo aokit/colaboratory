{
  "nbformat": 4,
  "nbformat_minor": 0,
  "metadata": {
    "colab": {
      "name": "数式計算（素因数分解だけじゃなくて）.ipynb のコピー",
      "version": "0.3.2",
      "provenance": [],
      "include_colab_link": true
    },
    "kernelspec": {
      "display_name": "Python 3",
      "language": "python",
      "name": "python3"
    }
  },
  "cells": [
    {
      "cell_type": "markdown",
      "metadata": {
        "id": "view-in-github",
        "colab_type": "text"
      },
      "source": [
        "[View in Colaboratory](https://colab.research.google.com/github/aokit/colaboratory/blob/master/%E6%95%B0%E5%BC%8F%E8%A8%88%E7%AE%97%EF%BC%88%E7%B4%A0%E5%9B%A0%E6%95%B0%E5%88%86%E8%A7%A3%E3%81%A0%E3%81%91%E3%81%98%E3%82%83%E3%81%AA%E3%81%8F%E3%81%A6%EF%BC%89_ipynb_%E3%81%AE%E3%82%B3%E3%83%94%E3%83%BC.ipynb)"
      ]
    },
    {
      "metadata": {
        "id": "JoDsN2BQC_qi",
        "colab_type": "code",
        "colab": {
          "base_uri": "https://localhost:8080/",
          "height": 34
        },
        "outputId": "03ef133d-83db-4d78-8e36-468b64e14d87"
      },
      "cell_type": "code",
      "source": [
        "#@title 数式処理（sympy）を使ってみる。\n",
        "# せっかく使えるのだけれど、数式のレンダリングはしてくれないみたい。\n",
        "# TeX 風の表記となっている。まぁいいか。\n",
        "from sympy import *\n",
        "init_printing()\n",
        "x = Symbol('x')\n",
        "y = Symbol('y')\n",
        "Rational(3 ,2)*pi + exp(I*x) / (x**2 + y)"
      ],
      "execution_count": 0,
      "outputs": [
        {
          "output_type": "execute_result",
          "data": {
            "image/png": "[encoded data removed]",
            "text/latex": "$$\\frac{3 \\pi}{2} + \\frac{e^{i x}}{x^{2} + y}$$",
            "text/plain": [
              "        ⅈ⋅x \n",
              "3⋅π    ℯ    \n",
              "─── + ──────\n",
              " 2     2    \n",
              "      x  + y"
            ]
          },
          "metadata": {
            "tags": []
          },
          "execution_count": 22
        }
      ]
    },
    {
      "metadata": {
        "id": "xNkJxUKNyu7x",
        "colab_type": "text"
      },
      "cell_type": "markdown",
      "source": [
        "↓こちらで開けば、colaboratoryが\n",
        "\n",
        "https://colab.research.google.com/github/aokit/aws-fpga/blob/master/%E6%95%B0%E5%BC%8F%E8%A8%88%E7%AE%97%EF%BC%88%E7%B4%A0%E5%9B%A0%E6%95%B0%E5%88%86%E8%A7%A3%E3%81%A0%E3%81%91%E3%81%98%E3%82%83%E3%81%AA%E3%81%8F%E3%81%A6%EF%BC%89.ipynb\n",
        "\n",
        "↓こちらで開けば、githubが開く。\n",
        "\n",
        "https://github.com/aokit/aws-fpga/blob/master/%E6%95%B0%E5%BC%8F%E8%A8%88%E7%AE%97%EF%BC%88%E7%B4%A0%E5%9B%A0%E6%95%B0%E5%88%86%E8%A7%A3%E3%81%A0%E3%81%91%E3%81%98%E3%82%83%E3%81%AA%E3%81%8F%E3%81%A6%EF%BC%89.ipynb"
      ]
    },
    {
      "metadata": {
        "id": "Yjwz4D1HQUx3",
        "colab_type": "text"
      },
      "cell_type": "markdown",
      "source": [
        "ここには、せつめいなどかけるみたい。ただ、かんじへんかん\n",
        "すると、かーそるせいぎょにもんだいがある。"
      ]
    },
    {
      "metadata": {
        "id": "V_h0cfsi0TWJ",
        "colab_type": "code",
        "colab": {
          "base_uri": "https://localhost:8080/",
          "height": 365
        },
        "outputId": "57379228-e384-47a5-f941-c415aeb0b48c"
      },
      "cell_type": "code",
      "source": [
        "#@title ソースコードの中に『デフォルトのタイトルコードの追加』でタイトルコードが追加できる。\n",
        "variable_name = \"Hello world!\\u3000\\u3053\\u3093\\u306B\\u3061\\u306F\" #@param {type:\"string\"}\n",
        "def primefactors(n):\n",
        "  '''素因数分解をやってみる例題\n",
        "  '''\n",
        "  k,k2,j,j2=2,4,3,9\n",
        "  r=list()\n",
        "  while n>=k2 :\n",
        "    while n%k==0 :\n",
        "      r.append(k)\n",
        "      n=n//k\n",
        "    k,k2,j,j2=j,j2,j+2,j2+4*j+4\n",
        "  if n>1 :\n",
        "    r.append(n)\n",
        "  return(r)\n",
        "\n",
        "def primehist():\n",
        "  a=list()\n",
        "  import matplotlib.pyplot as plt\n",
        "  for count in range(2,602) :\n",
        "    # print(primefactors(count))\n",
        "    a.extend(primefactors(count))\n",
        "  plt.hist(a,bins=27,range=(2,29))\n",
        "  plt.show()\n",
        "\n",
        "if __name__ == '__main__' :\n",
        "  print(variable_name+\"　素因数のヒストグラム\")\n",
        "  primehist()\n",
        "  # print(primefactors(2355))"
      ],
      "execution_count": 0,
      "outputs": [
        {
          "output_type": "stream",
          "text": [
            "Hello world!　こんにちは　素因数のヒストグラム\n"
          ],
          "name": "stdout"
        },
        {
          "output_type": "display_data",
          "data": {
            "image/png": "[encoded data removed]",
            "text/plain": [
              "<matplotlib.figure.Figure at 0x7fec3ec6fe48>"
            ]
          },
          "metadata": {
            "tags": []
          }
        }
      ]
    },
    {
      "metadata": {
        "id": "Qalig6Z-C_qw",
        "colab_type": "code",
        "colab": {
          "base_uri": "https://localhost:8080/",
          "height": 35
        },
        "outputId": "931d22e5-cd98-4b89-aa07-3b7c21064ba6"
      },
      "cell_type": "code",
      "source": [
        "#@title 素因数分解：from sympy import * のあとで実行できるようになる。\n",
        "# ためしに 201803280941 （現在のタイムコード）を入れたら、いきなり素数だったと。\n",
        "from sympy import *\n",
        "factorint(201803280941)"
      ],
      "execution_count": 0,
      "outputs": [
        {
          "output_type": "execute_result",
          "data": {
            "text/plain": [
              "{201803280941: 1}"
            ]
          },
          "metadata": {
            "tags": []
          },
          "execution_count": 2
        }
      ]
    },
    {
      "metadata": {
        "id": "XBnYUS12C_q5",
        "colab_type": "code",
        "colab": {
          "base_uri": "https://localhost:8080/",
          "height": 34
        },
        "outputId": "41e3bc7d-110a-49bd-cd5e-58a1508ee816"
      },
      "cell_type": "code",
      "source": [
        "1+2*3+4*5 \\\n",
        "+3"
      ],
      "execution_count": 0,
      "outputs": [
        {
          "output_type": "execute_result",
          "data": {
            "text/plain": [
              "30"
            ]
          },
          "metadata": {
            "tags": []
          },
          "execution_count": 6
        }
      ]
    },
    {
      "metadata": {
        "id": "Eo5XJ5pJEaHI",
        "colab_type": "text"
      },
      "cell_type": "markdown",
      "source": [
        "なるほど、テキストモードだとこんな感じ。下の行にマークアップされた結果が表示される。"
      ]
    },
    {
      "metadata": {
        "id": "hPkFtY-55hjW",
        "colab_type": "text"
      },
      "cell_type": "markdown",
      "source": [
        "？この上の行はいったいどうやって入力したんだろうか？\n",
        "それに、マークアップした結果は、右のウインドウに表示されるようになったのかな。"
      ]
    },
    {
      "metadata": {
        "id": "cM2ahllMC_q-",
        "colab_type": "code",
        "colab": {}
      },
      "cell_type": "code",
      "source": [
        "#@title ちなみに、このノートブックは、自分宛てのメールに添付したノートブックファイルをドライブに保存してそこからロードした。会社だといきなりロードできないので・・・。\n"
      ],
      "execution_count": 0,
      "outputs": []
    }
  ]
}